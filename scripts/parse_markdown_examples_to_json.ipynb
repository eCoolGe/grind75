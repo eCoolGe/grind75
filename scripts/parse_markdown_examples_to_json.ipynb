{
 "cells": [
  {
   "metadata": {},
   "cell_type": "markdown",
   "source": [
    "# 🧩 `parse_markdown_examples_to_json(text: str)`\n",
    "\n",
    "Парсит текст с примерами, содержащими блоки `**Input:**` и `**Output:**`, и возвращает их в виде словаря. Этот формат используется у LeetCode.\n",
    "\n",
    "---\n",
    "\n",
    "## 📥 Аргументы\n",
    "\n",
    "| Параметр | Тип   | Описание                             |\n",
    "|----------|-------|--------------------------------------|\n",
    "| `text`   | `str` | Текст, содержащий примеры в формате: |\n",
    "| -        |       | `**Example N:**`                     |\n",
    "| -        |       | `**Input:** <входные данные>`        |\n",
    "| -        |       | `**Output:** <выходные данные>`      |\n",
    "\n",
    "---\n",
    "\n",
    "## 📤 Возвращает\n",
    "\n",
    "Тип: `dict`\n",
    "\n",
    "Структура возвращаемого словаря:\n",
    "\n",
    "```json\n",
    "{\n",
    "  \"examples\": [\n",
    "    {\n",
    "      \"input\": {...},     // Входные данные (dict)\n",
    "      \"output\": ...       // Выходные данные (любой тип)\n",
    "    }\n",
    "  ]\n",
    "}\n",
    "```\n",
    "\n",
    "---\n"
   ],
   "id": "55ec4f1b67d7f0f7"
  },
  {
   "metadata": {},
   "cell_type": "markdown",
   "source": "# 🔻 Вставьте пример для конвертирования в JSON",
   "id": "e493051c0d6a5b97"
  },
  {
   "metadata": {
    "ExecuteTime": {
     "end_time": "2025-06-23T23:01:24.398180Z",
     "start_time": "2025-06-23T23:01:24.394811Z"
    }
   },
   "cell_type": "code",
   "source": [
    "example_block = \"\"\"\n",
    "**Example 1:**\n",
    "\n",
    "![](https://assets.leetcode.com/uploads/2020/10/03/merge_ex1.jpg)\n",
    "\n",
    "**Input:** list1 = [1,2,4], list2 = [1,3,4]\n",
    "**Output:** [1,1,2,3,4,4]\n",
    "\n",
    "**Example 2:**\n",
    "\n",
    "**Input:** list1 = [], list2 = []\n",
    "**Output:** []\n",
    "\n",
    "**Example 3:**\n",
    "\n",
    "**Input:** list1 = [], list2 = [0]\n",
    "**Output:** [0]\n",
    "\"\"\""
   ],
   "id": "bb371fc7f1de310a",
   "outputs": [],
   "execution_count": 24
  },
  {
   "metadata": {},
   "cell_type": "markdown",
   "source": "## 1. Функция-обработчик",
   "id": "69f1f1585d5db25c"
  },
  {
   "metadata": {
    "ExecuteTime": {
     "end_time": "2025-06-23T23:01:24.420280Z",
     "start_time": "2025-06-23T23:01:24.411934Z"
    }
   },
   "cell_type": "code",
   "source": [
    "import re\n",
    "import ast\n",
    "import json\n",
    "\n",
    "def parse_markdown_examples_to_json(text: str):\n",
    "    examples = []\n",
    "    raw_blocks = re.split(r\"\\*\\*Example \\d+:\\*\\*\", text)\n",
    "\n",
    "    for idx, block in enumerate(raw_blocks, 1):\n",
    "        prefix = f\"Example {idx}\"\n",
    "\n",
    "        # Попытка найти input\n",
    "        input_lines = re.findall(r\"\\*\\*Input:\\*\\*\\s*(.*?)(?=\\n\\*\\*|$)\", block, re.DOTALL)\n",
    "        if not input_lines:\n",
    "            continue\n",
    "        input_lines = [line.strip().rstrip(\",\") for line in input_lines[0].strip().splitlines() if line.strip()]\n",
    "        try:\n",
    "            if len(input_lines) == 1:\n",
    "                # Случай s=[\"MyQueue\"], x=[[]]\n",
    "                input_expr = \"{\" + re.sub(r\"(\\w+)\\s*=\", r'\"\\1\":', input_lines[0]) + \"}\"\n",
    "                input_data = ast.literal_eval(input_expr)\n",
    "            else:\n",
    "                # Случай [\"MyQueue\"], [[], []]\n",
    "                input_data = {\"args\": [ast.literal_eval(line) for line in input_lines]}\n",
    "        except Exception as e:\n",
    "            print(f\"{prefix} ⚠ Ошибка в input: {e}\")\n",
    "            continue\n",
    "\n",
    "        # Попытка найти output\n",
    "        output_match = re.search(r\"\\*\\*Output:\\*\\*\\s*(.*?)\\s*(?:\\n|$)\", block)\n",
    "        if not output_match:\n",
    "            continue\n",
    "\n",
    "        output_text = output_match.group(1).strip()\n",
    "        output_text = output_text.replace(\"null\", \"None\").replace(\"true\", \"True\").replace(\"false\", \"False\")\n",
    "\n",
    "        try:\n",
    "            output_data = ast.literal_eval(output_text)\n",
    "        except Exception as e:\n",
    "            print(f\"{prefix} ⚠ Ошибка в output: {e}\")\n",
    "            continue\n",
    "\n",
    "        examples.append({\n",
    "            \"input\": input_data,\n",
    "            \"output\": output_data\n",
    "        })\n",
    "\n",
    "    return {\"examples\": examples}\n"
   ],
   "id": "951a91d401be4efb",
   "outputs": [],
   "execution_count": 25
  },
  {
   "metadata": {},
   "cell_type": "markdown",
   "source": "## 2. Парсим примеры из текста",
   "id": "a075f17332a2d03c"
  },
  {
   "metadata": {
    "ExecuteTime": {
     "end_time": "2025-06-23T23:01:24.439153Z",
     "start_time": "2025-06-23T23:01:24.434737Z"
    }
   },
   "cell_type": "code",
   "source": [
    "parsed = parse_markdown_examples_to_json(example_block)\n",
    "print(parsed)"
   ],
   "id": "971399785bc64bfa",
   "outputs": [
    {
     "name": "stdout",
     "output_type": "stream",
     "text": [
      "{'examples': [{'input': {'list1': [1, 2, 4], 'list2': [1, 3, 4]}, 'output': [1, 1, 2, 3, 4, 4]}, {'input': {'list1': [], 'list2': []}, 'output': []}, {'input': {'list1': [], 'list2': [0]}, 'output': [0]}]}\n"
     ]
    }
   ],
   "execution_count": 26
  },
  {
   "metadata": {},
   "cell_type": "markdown",
   "source": "## 3. Преобразуем результат в JSON-строку с красивым форматированием",
   "id": "616efb94620502b8"
  },
  {
   "metadata": {
    "ExecuteTime": {
     "end_time": "2025-06-23T23:01:24.470742Z",
     "start_time": "2025-06-23T23:01:24.466918Z"
    }
   },
   "cell_type": "code",
   "source": [
    "pretty = json.dumps(parsed, indent=2, ensure_ascii=False)\n",
    "print(pretty)"
   ],
   "id": "940807a7387799b8",
   "outputs": [
    {
     "name": "stdout",
     "output_type": "stream",
     "text": [
      "{\n",
      "  \"examples\": [\n",
      "    {\n",
      "      \"input\": {\n",
      "        \"list1\": [\n",
      "          1,\n",
      "          2,\n",
      "          4\n",
      "        ],\n",
      "        \"list2\": [\n",
      "          1,\n",
      "          3,\n",
      "          4\n",
      "        ]\n",
      "      },\n",
      "      \"output\": [\n",
      "        1,\n",
      "        1,\n",
      "        2,\n",
      "        3,\n",
      "        4,\n",
      "        4\n",
      "      ]\n",
      "    },\n",
      "    {\n",
      "      \"input\": {\n",
      "        \"list1\": [],\n",
      "        \"list2\": []\n",
      "      },\n",
      "      \"output\": []\n",
      "    },\n",
      "    {\n",
      "      \"input\": {\n",
      "        \"list1\": [],\n",
      "        \"list2\": [\n",
      "          0\n",
      "        ]\n",
      "      },\n",
      "      \"output\": [\n",
      "        0\n",
      "      ]\n",
      "    }\n",
      "  ]\n",
      "}\n"
     ]
    }
   ],
   "execution_count": 27
  },
  {
   "metadata": {},
   "cell_type": "markdown",
   "source": "## 4. Убираем лишние пробелы и переносы строк внутри массивов",
   "id": "f167371aae54edc4"
  },
  {
   "metadata": {
    "ExecuteTime": {
     "end_time": "2025-06-23T23:01:24.511175Z",
     "start_time": "2025-06-23T23:01:24.507015Z"
    }
   },
   "cell_type": "code",
   "source": [
    "pretty = re.sub(r'\\[\\s+([^\\[\\]]+?)\\s+\\]', lambda m: '[' + m.group(1).replace('\\n', '').replace(' ', '') + ']', pretty)\n",
    "print(pretty)"
   ],
   "id": "a73fc357b5205485",
   "outputs": [
    {
     "name": "stdout",
     "output_type": "stream",
     "text": [
      "{\n",
      "  \"examples\": [\n",
      "    {\n",
      "      \"input\": {\n",
      "        \"list1\": [1,2,4],\n",
      "        \"list2\": [1,3,4]\n",
      "      },\n",
      "      \"output\": [1,1,2,3,4,4]\n",
      "    },\n",
      "    {\n",
      "      \"input\": {\n",
      "        \"list1\": [],\n",
      "        \"list2\": []\n",
      "      },\n",
      "      \"output\": []\n",
      "    },\n",
      "    {\n",
      "      \"input\": {\n",
      "        \"list1\": [],\n",
      "        \"list2\": [0]\n",
      "      },\n",
      "      \"output\": [0]\n",
      "    }\n",
      "  ]\n",
      "}\n"
     ]
    }
   ],
   "execution_count": 28
  },
  {
   "metadata": {},
   "cell_type": "markdown",
   "source": "# 🔺 Заберите результат в буфер обмена",
   "id": "d38d51512712fa61"
  }
 ],
 "metadata": {
  "kernelspec": {
   "display_name": "Python 3",
   "language": "python",
   "name": "python3"
  },
  "language_info": {
   "codemirror_mode": {
    "name": "ipython",
    "version": 2
   },
   "file_extension": ".py",
   "mimetype": "text/x-python",
   "name": "python",
   "nbconvert_exporter": "python",
   "pygments_lexer": "ipython2",
   "version": "2.7.6"
  }
 },
 "nbformat": 4,
 "nbformat_minor": 5
}
