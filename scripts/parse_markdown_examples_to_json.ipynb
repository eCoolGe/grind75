{
 "cells": [
  {
   "metadata": {},
   "cell_type": "markdown",
   "source": [
    "# 🧩 `parse_markdown_examples_to_json(text: str)`\n",
    "\n",
    "Парсит текст с примерами, содержащими блоки `**Input:**` и `**Output:**`, и возвращает их в виде словаря. Этот формат используется у LeetCode.\n",
    "\n",
    "---\n",
    "\n",
    "## 📥 Аргументы\n",
    "\n",
    "| Параметр | Тип   | Описание                             |\n",
    "|----------|-------|--------------------------------------|\n",
    "| `text`   | `str` | Текст, содержащий примеры в формате: |\n",
    "| -        |       | `**Example N:**`                     |\n",
    "| -        |       | `**Input:** <входные данные>`        |\n",
    "| -        |       | `**Output:** <выходные данные>`      |\n",
    "\n",
    "---\n",
    "\n",
    "## 📤 Возвращает\n",
    "\n",
    "Тип: `dict`\n",
    "\n",
    "Структура возвращаемого словаря:\n",
    "\n",
    "```json\n",
    "{\n",
    "  \"examples\": [\n",
    "    {\n",
    "      \"input\": {...},     // Входные данные (dict)\n",
    "      \"output\": ...       // Выходные данные (любой тип)\n",
    "    }\n",
    "  ]\n",
    "}\n",
    "```\n",
    "\n",
    "---\n"
   ],
   "id": "55ec4f1b67d7f0f7"
  },
  {
   "metadata": {},
   "cell_type": "markdown",
   "source": "# 🔻 Вставьте пример для конвертирования в JSON",
   "id": "e493051c0d6a5b97"
  },
  {
   "metadata": {
    "ExecuteTime": {
     "end_time": "2025-07-02T21:34:09.136724Z",
     "start_time": "2025-07-02T21:34:09.114630Z"
    }
   },
   "cell_type": "code",
   "source": [
    "example_block = \"\"\"\n",
    "**Example 1:**\n",
    "\n",
    "![](https://assets.leetcode.com/uploads/2019/02/16/oranges.png)\n",
    "\n",
    "**Input:** grid = [ [2,1,1],[1,1,0],[0,1,1] ]\n",
    "**Output:** 4\n",
    "\n",
    "**Example 2:**\n",
    "\n",
    "**Input:** grid = [ [2,1,1],[0,1,1],[1,0,1] ]\n",
    "**Output:** -1\n",
    "**Explanation:** The orange in the bottom left corner (row 2, column 0) is never rotten, because rotting only happens 4-directionally.\n",
    "\n",
    "**Example 3:**\n",
    "\n",
    "**Input:** grid = [ [0,2] ]\n",
    "**Output:** 0\n",
    "**Explanation:** Since there are already no fresh oranges at minute 0, the answer is just 0.\n",
    "\"\"\""
   ],
   "id": "bb371fc7f1de310a",
   "outputs": [],
   "execution_count": 16
  },
  {
   "metadata": {},
   "cell_type": "markdown",
   "source": "## 1. Функция-обработчик",
   "id": "69f1f1585d5db25c"
  },
  {
   "metadata": {
    "ExecuteTime": {
     "end_time": "2025-07-02T21:34:09.165643Z",
     "start_time": "2025-07-02T21:34:09.155787Z"
    }
   },
   "cell_type": "code",
   "source": [
    "import re\n",
    "import json\n",
    "from parse_markdown_examples_to_json import parse_markdown_examples_to_json"
   ],
   "id": "951a91d401be4efb",
   "outputs": [],
   "execution_count": 17
  },
  {
   "metadata": {},
   "cell_type": "markdown",
   "source": "## 2. Парсим примеры из текста",
   "id": "a075f17332a2d03c"
  },
  {
   "metadata": {
    "ExecuteTime": {
     "end_time": "2025-07-02T21:34:09.211971Z",
     "start_time": "2025-07-02T21:34:09.204321Z"
    }
   },
   "cell_type": "code",
   "source": [
    "parsed = parse_markdown_examples_to_json(example_block)\n",
    "print(parsed)"
   ],
   "id": "971399785bc64bfa",
   "outputs": [
    {
     "name": "stdout",
     "output_type": "stream",
     "text": [
      "{'examples': [{'input': {'grid': [[2, 1, 1], [1, 1, 0], [0, 1, 1]]}, 'output': 4}, {'input': {'grid': [[2, 1, 1], [0, 1, 1], [1, 0, 1]]}, 'output': -1}, {'input': {'grid': [[0, 2]]}, 'output': 0}]}\n"
     ]
    }
   ],
   "execution_count": 18
  },
  {
   "metadata": {},
   "cell_type": "markdown",
   "source": "## 3. Преобразуем результат в JSON-строку с красивым форматированием",
   "id": "616efb94620502b8"
  },
  {
   "metadata": {
    "ExecuteTime": {
     "end_time": "2025-07-02T21:34:09.304306Z",
     "start_time": "2025-07-02T21:34:09.294548Z"
    }
   },
   "cell_type": "code",
   "source": [
    "pretty = json.dumps(parsed, indent=2, ensure_ascii=False)\n",
    "print(pretty)"
   ],
   "id": "940807a7387799b8",
   "outputs": [
    {
     "name": "stdout",
     "output_type": "stream",
     "text": [
      "{\n",
      "  \"examples\": [\n",
      "    {\n",
      "      \"input\": {\n",
      "        \"grid\": [\n",
      "          [\n",
      "            2,\n",
      "            1,\n",
      "            1\n",
      "          ],\n",
      "          [\n",
      "            1,\n",
      "            1,\n",
      "            0\n",
      "          ],\n",
      "          [\n",
      "            0,\n",
      "            1,\n",
      "            1\n",
      "          ]\n",
      "        ]\n",
      "      },\n",
      "      \"output\": 4\n",
      "    },\n",
      "    {\n",
      "      \"input\": {\n",
      "        \"grid\": [\n",
      "          [\n",
      "            2,\n",
      "            1,\n",
      "            1\n",
      "          ],\n",
      "          [\n",
      "            0,\n",
      "            1,\n",
      "            1\n",
      "          ],\n",
      "          [\n",
      "            1,\n",
      "            0,\n",
      "            1\n",
      "          ]\n",
      "        ]\n",
      "      },\n",
      "      \"output\": -1\n",
      "    },\n",
      "    {\n",
      "      \"input\": {\n",
      "        \"grid\": [\n",
      "          [\n",
      "            0,\n",
      "            2\n",
      "          ]\n",
      "        ]\n",
      "      },\n",
      "      \"output\": 0\n",
      "    }\n",
      "  ]\n",
      "}\n"
     ]
    }
   ],
   "execution_count": 19
  },
  {
   "metadata": {},
   "cell_type": "markdown",
   "source": "## 4. Убираем лишние пробелы и переносы строк внутри массивов",
   "id": "f167371aae54edc4"
  },
  {
   "metadata": {
    "ExecuteTime": {
     "end_time": "2025-07-02T21:34:09.368248Z",
     "start_time": "2025-07-02T21:34:09.359880Z"
    }
   },
   "cell_type": "code",
   "source": [
    "pretty = re.sub(r'\\[\\s+([^\\[\\]]+?)\\s+\\]', lambda m: '[' + m.group(1).replace('\\n', '').replace(' ', '') + ']', pretty)\n",
    "print(pretty)"
   ],
   "id": "a73fc357b5205485",
   "outputs": [
    {
     "name": "stdout",
     "output_type": "stream",
     "text": [
      "{\n",
      "  \"examples\": [\n",
      "    {\n",
      "      \"input\": {\n",
      "        \"grid\": [\n",
      "          [2,1,1],\n",
      "          [1,1,0],\n",
      "          [0,1,1]\n",
      "        ]\n",
      "      },\n",
      "      \"output\": 4\n",
      "    },\n",
      "    {\n",
      "      \"input\": {\n",
      "        \"grid\": [\n",
      "          [2,1,1],\n",
      "          [0,1,1],\n",
      "          [1,0,1]\n",
      "        ]\n",
      "      },\n",
      "      \"output\": -1\n",
      "    },\n",
      "    {\n",
      "      \"input\": {\n",
      "        \"grid\": [\n",
      "          [0,2]\n",
      "        ]\n",
      "      },\n",
      "      \"output\": 0\n",
      "    }\n",
      "  ]\n",
      "}\n"
     ]
    }
   ],
   "execution_count": 20
  },
  {
   "metadata": {},
   "cell_type": "markdown",
   "source": "# 🔺 Заберите результат в буфер обмена",
   "id": "d38d51512712fa61"
  }
 ],
 "metadata": {
  "kernelspec": {
   "display_name": "Python 3",
   "language": "python",
   "name": "python3"
  },
  "language_info": {
   "codemirror_mode": {
    "name": "ipython",
    "version": 2
   },
   "file_extension": ".py",
   "mimetype": "text/x-python",
   "name": "python",
   "nbconvert_exporter": "python",
   "pygments_lexer": "ipython2",
   "version": "2.7.6"
  }
 },
 "nbformat": 4,
 "nbformat_minor": 5
}
