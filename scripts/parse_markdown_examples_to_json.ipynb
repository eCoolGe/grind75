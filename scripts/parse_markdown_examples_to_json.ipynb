{
 "cells": [
  {
   "metadata": {},
   "cell_type": "markdown",
   "source": [
    "# 🧩 `parse_markdown_examples_to_json(text: str)`\n",
    "\n",
    "Парсит текст с примерами, содержащими блоки `**Input:**` и `**Output:**`, и возвращает их в виде словаря. Этот формат используется у LeetCode.\n",
    "\n",
    "---\n",
    "\n",
    "## 📥 Аргументы\n",
    "\n",
    "| Параметр | Тип   | Описание                             |\n",
    "|----------|-------|--------------------------------------|\n",
    "| `text`   | `str` | Текст, содержащий примеры в формате: |\n",
    "| -        |       | `**Example N:**`                     |\n",
    "| -        |       | `**Input:** <входные данные>`        |\n",
    "| -        |       | `**Output:** <выходные данные>`      |\n",
    "\n",
    "---\n",
    "\n",
    "## 📤 Возвращает\n",
    "\n",
    "Тип: `dict`\n",
    "\n",
    "Структура возвращаемого словаря:\n",
    "\n",
    "```json\n",
    "{\n",
    "  \"examples\": [\n",
    "    {\n",
    "      \"input\": {...},     // Входные данные (dict)\n",
    "      \"output\": ...       // Выходные данные (любой тип)\n",
    "    }\n",
    "  ]\n",
    "}\n",
    "```\n",
    "\n",
    "---\n"
   ],
   "id": "55ec4f1b67d7f0f7"
  },
  {
   "metadata": {},
   "cell_type": "markdown",
   "source": "# 🔻 Вставьте пример для конвертирования в JSON",
   "id": "e493051c0d6a5b97"
  },
  {
   "metadata": {
    "ExecuteTime": {
     "end_time": "2025-06-30T23:07:08.189018Z",
     "start_time": "2025-06-30T23:07:08.184680Z"
    }
   },
   "cell_type": "code",
   "source": [
    "example_block = \"\"\"\n",
    "**Example 1:**\n",
    "\n",
    "**Input:** nums = [-1,0,1,2,-1,-4]\n",
    "**Output:** [ [-1,-1,2],[-1,0,1] ]\n",
    "**Explanation:**\n",
    "nums[0] + nums[1] + nums[2] = (-1) + 0 + 1 = 0.\n",
    "nums[1] + nums[2] + nums[4] = 0 + 1 + (-1) = 0.\n",
    "nums[0] + nums[3] + nums[4] = (-1) + 2 + (-1) = 0.\n",
    "The distinct triplets are [-1,0,1] and [-1,-1,2].\n",
    "Notice that the order of the output and the order of the triplets does not matter.\n",
    "\n",
    "**Example 2:**\n",
    "\n",
    "**Input:** nums = [0,1,1]\n",
    "**Output:** []\n",
    "**Explanation:** The only possible triplet does not sum up to 0.\n",
    "\n",
    "**Example 3:**\n",
    "\n",
    "**Input:** nums = [0,0,0]\n",
    "**Output:** [ [0,0,0] ]\n",
    "**Explanation:** The only possible triplet sums up to 0.\n",
    "\"\"\""
   ],
   "id": "bb371fc7f1de310a",
   "outputs": [],
   "execution_count": 47
  },
  {
   "metadata": {},
   "cell_type": "markdown",
   "source": "## 1. Функция-обработчик",
   "id": "69f1f1585d5db25c"
  },
  {
   "metadata": {
    "ExecuteTime": {
     "end_time": "2025-06-30T23:07:08.222778Z",
     "start_time": "2025-06-30T23:07:08.210036Z"
    }
   },
   "cell_type": "code",
   "source": [
    "import re\n",
    "import ast\n",
    "import json\n",
    "\n",
    "def parse_markdown_examples_to_json(text: str):\n",
    "    examples = []\n",
    "    raw_blocks = re.split(r\"\\*\\*Example \\d+:\\*\\*\", text)\n",
    "\n",
    "    for idx, block in enumerate(raw_blocks, 1):\n",
    "        prefix = f\"Example {idx}\"\n",
    "\n",
    "        # Убираем пробелы в конце строк\n",
    "        block = \"\\n\".join(line.rstrip() for line in block.splitlines())\n",
    "\n",
    "        # Извлекаем блок Input\n",
    "        input_match = re.search(r\"\\*\\*Input:\\*\\*\\s*(.*?)(?=\\n\\*\\*|$)\", block, re.DOTALL)\n",
    "        if not input_match:\n",
    "            continue\n",
    "        input_text = input_match.group(1).strip()\n",
    "\n",
    "        # Преобразуем значения в python-эквиваленты\n",
    "        input_text = (\n",
    "            input_text\n",
    "            .replace(\"null\", \"None\")\n",
    "            .replace(\"true\", \"True\")\n",
    "            .replace(\"false\", \"False\")\n",
    "        )\n",
    "\n",
    "        # Подготовка списка строк\n",
    "        input_lines = [line.strip().rstrip(\",\") for line in input_text.splitlines() if line.strip()]\n",
    "\n",
    "        try:\n",
    "            if '=' in input_text:\n",
    "                # Формат: key = [...]\n",
    "                # Преобразуем к виду словаря: {\"key\": [...]}\n",
    "                input_expr = \"{\" + re.sub(r\"(\\w+)\\s*=\", r'\"\\1\":', input_text) + \"}\"\n",
    "                input_data = ast.literal_eval(input_expr)\n",
    "            else:\n",
    "                # Формат: [...], [...]\n",
    "                input_data = {\"args\": [ast.literal_eval(line) for line in input_lines]}\n",
    "        except Exception as e:\n",
    "            print(f\"{prefix} ⚠ Ошибка в input: {e}\")\n",
    "            continue\n",
    "\n",
    "        # Извлекаем Output\n",
    "        output_match = re.search(r\"\\*\\*Output:\\*\\*\\s*(.*?)\\s*(?:\\n|$)\", block)\n",
    "        if not output_match:\n",
    "            continue\n",
    "        output_text = output_match.group(1).strip()\n",
    "        output_text = (\n",
    "            output_text\n",
    "            .replace(\"null\", \"None\")\n",
    "            .replace(\"true\", \"True\")\n",
    "            .replace(\"false\", \"False\")\n",
    "        )\n",
    "\n",
    "        try:\n",
    "            output_data = ast.literal_eval(output_text)\n",
    "        except Exception as e:\n",
    "            print(f\"{prefix} ⚠ Ошибка в output: {e}\")\n",
    "            continue\n",
    "\n",
    "        examples.append({\n",
    "            \"input\": input_data,\n",
    "            \"output\": output_data\n",
    "        })\n",
    "\n",
    "    return {\"examples\": examples}\n"
   ],
   "id": "951a91d401be4efb",
   "outputs": [],
   "execution_count": 48
  },
  {
   "metadata": {},
   "cell_type": "markdown",
   "source": "## 2. Парсим примеры из текста",
   "id": "a075f17332a2d03c"
  },
  {
   "metadata": {
    "ExecuteTime": {
     "end_time": "2025-06-30T23:07:08.244815Z",
     "start_time": "2025-06-30T23:07:08.239880Z"
    }
   },
   "cell_type": "code",
   "source": [
    "parsed = parse_markdown_examples_to_json(example_block)\n",
    "print(parsed)"
   ],
   "id": "971399785bc64bfa",
   "outputs": [
    {
     "name": "stdout",
     "output_type": "stream",
     "text": [
      "{'examples': [{'input': {'nums': [-1, 0, 1, 2, -1, -4]}, 'output': [[-1, -1, 2], [-1, 0, 1]]}, {'input': {'nums': [0, 1, 1]}, 'output': []}, {'input': {'nums': [0, 0, 0]}, 'output': [[0, 0, 0]]}]}\n"
     ]
    }
   ],
   "execution_count": 49
  },
  {
   "metadata": {},
   "cell_type": "markdown",
   "source": "## 3. Преобразуем результат в JSON-строку с красивым форматированием",
   "id": "616efb94620502b8"
  },
  {
   "metadata": {
    "ExecuteTime": {
     "end_time": "2025-06-30T23:07:08.280690Z",
     "start_time": "2025-06-30T23:07:08.275502Z"
    }
   },
   "cell_type": "code",
   "source": [
    "pretty = json.dumps(parsed, indent=2, ensure_ascii=False)\n",
    "print(pretty)"
   ],
   "id": "940807a7387799b8",
   "outputs": [
    {
     "name": "stdout",
     "output_type": "stream",
     "text": [
      "{\n",
      "  \"examples\": [\n",
      "    {\n",
      "      \"input\": {\n",
      "        \"nums\": [\n",
      "          -1,\n",
      "          0,\n",
      "          1,\n",
      "          2,\n",
      "          -1,\n",
      "          -4\n",
      "        ]\n",
      "      },\n",
      "      \"output\": [\n",
      "        [\n",
      "          -1,\n",
      "          -1,\n",
      "          2\n",
      "        ],\n",
      "        [\n",
      "          -1,\n",
      "          0,\n",
      "          1\n",
      "        ]\n",
      "      ]\n",
      "    },\n",
      "    {\n",
      "      \"input\": {\n",
      "        \"nums\": [\n",
      "          0,\n",
      "          1,\n",
      "          1\n",
      "        ]\n",
      "      },\n",
      "      \"output\": []\n",
      "    },\n",
      "    {\n",
      "      \"input\": {\n",
      "        \"nums\": [\n",
      "          0,\n",
      "          0,\n",
      "          0\n",
      "        ]\n",
      "      },\n",
      "      \"output\": [\n",
      "        [\n",
      "          0,\n",
      "          0,\n",
      "          0\n",
      "        ]\n",
      "      ]\n",
      "    }\n",
      "  ]\n",
      "}\n"
     ]
    }
   ],
   "execution_count": 50
  },
  {
   "metadata": {},
   "cell_type": "markdown",
   "source": "## 4. Убираем лишние пробелы и переносы строк внутри массивов",
   "id": "f167371aae54edc4"
  },
  {
   "metadata": {
    "ExecuteTime": {
     "end_time": "2025-06-30T23:07:08.333067Z",
     "start_time": "2025-06-30T23:07:08.327515Z"
    }
   },
   "cell_type": "code",
   "source": [
    "pretty = re.sub(r'\\[\\s+([^\\[\\]]+?)\\s+\\]', lambda m: '[' + m.group(1).replace('\\n', '').replace(' ', '') + ']', pretty)\n",
    "print(pretty)"
   ],
   "id": "a73fc357b5205485",
   "outputs": [
    {
     "name": "stdout",
     "output_type": "stream",
     "text": [
      "{\n",
      "  \"examples\": [\n",
      "    {\n",
      "      \"input\": {\n",
      "        \"nums\": [-1,0,1,2,-1,-4]\n",
      "      },\n",
      "      \"output\": [\n",
      "        [-1,-1,2],\n",
      "        [-1,0,1]\n",
      "      ]\n",
      "    },\n",
      "    {\n",
      "      \"input\": {\n",
      "        \"nums\": [0,1,1]\n",
      "      },\n",
      "      \"output\": []\n",
      "    },\n",
      "    {\n",
      "      \"input\": {\n",
      "        \"nums\": [0,0,0]\n",
      "      },\n",
      "      \"output\": [\n",
      "        [0,0,0]\n",
      "      ]\n",
      "    }\n",
      "  ]\n",
      "}\n"
     ]
    }
   ],
   "execution_count": 51
  },
  {
   "metadata": {},
   "cell_type": "markdown",
   "source": "# 🔺 Заберите результат в буфер обмена",
   "id": "d38d51512712fa61"
  }
 ],
 "metadata": {
  "kernelspec": {
   "display_name": "Python 3",
   "language": "python",
   "name": "python3"
  },
  "language_info": {
   "codemirror_mode": {
    "name": "ipython",
    "version": 2
   },
   "file_extension": ".py",
   "mimetype": "text/x-python",
   "name": "python",
   "nbconvert_exporter": "python",
   "pygments_lexer": "ipython2",
   "version": "2.7.6"
  }
 },
 "nbformat": 4,
 "nbformat_minor": 5
}
