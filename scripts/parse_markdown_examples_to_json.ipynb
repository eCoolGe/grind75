{
 "cells": [
  {
   "metadata": {},
   "cell_type": "markdown",
   "source": [
    "# 🧩 `parse_markdown_examples_to_json(text: str)`\n",
    "\n",
    "Парсит текст с примерами, содержащими блоки `**Input:**` и `**Output:**`, и возвращает их в виде словаря. Этот формат используется у LeetCode.\n",
    "\n",
    "---\n",
    "\n",
    "## 📥 Аргументы\n",
    "\n",
    "| Параметр | Тип   | Описание                             |\n",
    "|----------|-------|--------------------------------------|\n",
    "| `text`   | `str` | Текст, содержащий примеры в формате: |\n",
    "| -        |       | `**Example N:**`                     |\n",
    "| -        |       | `**Input:** <входные данные>`        |\n",
    "| -        |       | `**Output:** <выходные данные>`      |\n",
    "\n",
    "---\n",
    "\n",
    "## 📤 Возвращает\n",
    "\n",
    "Тип: `dict`\n",
    "\n",
    "Структура возвращаемого словаря:\n",
    "\n",
    "```json\n",
    "{\n",
    "  \"examples\": [\n",
    "    {\n",
    "      \"input\": {...},     // Входные данные (dict)\n",
    "      \"output\": ...       // Выходные данные (любой тип)\n",
    "    }\n",
    "  ]\n",
    "}\n",
    "```\n",
    "\n",
    "---\n"
   ],
   "id": "55ec4f1b67d7f0f7"
  },
  {
   "metadata": {},
   "cell_type": "markdown",
   "source": "# 🔻 Вставьте пример для конвертирования в JSON",
   "id": "e493051c0d6a5b97"
  },
  {
   "metadata": {
    "ExecuteTime": {
     "end_time": "2025-06-21T20:52:37.089811Z",
     "start_time": "2025-06-21T20:52:37.086651Z"
    }
   },
   "cell_type": "code",
   "source": [
    "example_block = \"\"\"\n",
    "**Example 1:**\n",
    "\n",
    "**Input:** nums = [-1,0,3,5,9,12], target = 9\n",
    "**Output:** 4\n",
    "**Explanation:** 9 exists in nums and its index is 4\n",
    "\n",
    "**Example 2:**\n",
    "\n",
    "**Input:** nums = [-1,0,3,5,9,12], target = 2\n",
    "**Output:** -1\n",
    "**Explanation:** 2 does not exist in nums so return -1\n",
    "\"\"\""
   ],
   "id": "bb371fc7f1de310a",
   "outputs": [],
   "execution_count": 7
  },
  {
   "metadata": {},
   "cell_type": "markdown",
   "source": "## 1. Функция-обработчик",
   "id": "69f1f1585d5db25c"
  },
  {
   "cell_type": "code",
   "id": "initial_id",
   "metadata": {
    "collapsed": true,
    "ExecuteTime": {
     "end_time": "2025-06-21T20:52:37.112331Z",
     "start_time": "2025-06-21T20:52:37.105141Z"
    }
   },
   "source": [
    "import re\n",
    "import ast\n",
    "import json\n",
    "\n",
    "def parse_markdown_examples_to_json(text: str):\n",
    "    examples = []\n",
    "    # Разделяем текст на блоки по шаблону **Example N:**\n",
    "    raw_blocks = re.split(r\"\\*\\*Example \\d+:\\*\\*\", text)\n",
    "    for block in raw_blocks:\n",
    "        # Ищем **Input:** ... **Output:** в каждом блоке\n",
    "        input_match = re.search(r\"\\*\\*Input:\\*\\*\\s*(.*?)\\s*(?:\\n|$)\", block)\n",
    "        output_match = re.search(r\"\\*\\*Output:\\*\\*\\s*(.*?)\\s*(?:\\n|$)\", block)\n",
    "\n",
    "        if not input_match or not output_match:\n",
    "            continue\n",
    "\n",
    "        input_text = input_match.group(1).strip()\n",
    "        output_text = output_match.group(1).strip().rstrip(\",\")\n",
    "\n",
    "        # Парсинг входных данных (input)\n",
    "        try:\n",
    "            input_expr = \"{\" + re.sub(r\"(\\w+)\\s*=\", r'\"\\1\":', input_text) + \"}\"\n",
    "            input_dict = ast.literal_eval(input_expr)\n",
    "        except Exception as e:\n",
    "            print(f\"⚠ Ошибка в input '{input_text}': {e}\")\n",
    "            continue\n",
    "\n",
    "        # Подготовка output-текста\n",
    "        output_text = output_text.replace(\"true\", \"True\").replace(\"false\", \"False\")\n",
    "\n",
    "        # Парсинг выходных данных (output)\n",
    "        try:\n",
    "            output = ast.literal_eval(output_text)\n",
    "        except Exception as e:\n",
    "            print(f\"⚠ Ошибка в output '{output_text}': {e}\")\n",
    "            continue\n",
    "\n",
    "        # Добавляем пример в список\n",
    "        examples.append({\n",
    "            \"input\": input_dict,\n",
    "            \"output\": output\n",
    "        })\n",
    "\n",
    "    return {\"examples\": examples}\n",
    "\n"
   ],
   "outputs": [],
   "execution_count": 8
  },
  {
   "metadata": {},
   "cell_type": "markdown",
   "source": "## 2. Парсим примеры из текста",
   "id": "a075f17332a2d03c"
  },
  {
   "metadata": {
    "ExecuteTime": {
     "end_time": "2025-06-21T20:52:37.137008Z",
     "start_time": "2025-06-21T20:52:37.133141Z"
    }
   },
   "cell_type": "code",
   "source": [
    "parsed = parse_markdown_examples_to_json(example_block)\n",
    "print(parsed)"
   ],
   "id": "971399785bc64bfa",
   "outputs": [
    {
     "name": "stdout",
     "output_type": "stream",
     "text": [
      "{'examples': [{'input': {'nums': [-1, 0, 3, 5, 9, 12], 'target': 9}, 'output': 4}, {'input': {'nums': [-1, 0, 3, 5, 9, 12], 'target': 2}, 'output': -1}]}\n"
     ]
    }
   ],
   "execution_count": 9
  },
  {
   "metadata": {},
   "cell_type": "markdown",
   "source": "## 3. Преобразуем результат в JSON-строку с красивым форматированием",
   "id": "616efb94620502b8"
  },
  {
   "metadata": {
    "ExecuteTime": {
     "end_time": "2025-06-21T20:52:37.182484Z",
     "start_time": "2025-06-21T20:52:37.177796Z"
    }
   },
   "cell_type": "code",
   "source": [
    "pretty = json.dumps(parsed, indent=2, ensure_ascii=False)\n",
    "print(pretty)"
   ],
   "id": "940807a7387799b8",
   "outputs": [
    {
     "name": "stdout",
     "output_type": "stream",
     "text": [
      "{\n",
      "  \"examples\": [\n",
      "    {\n",
      "      \"input\": {\n",
      "        \"nums\": [\n",
      "          -1,\n",
      "          0,\n",
      "          3,\n",
      "          5,\n",
      "          9,\n",
      "          12\n",
      "        ],\n",
      "        \"target\": 9\n",
      "      },\n",
      "      \"output\": 4\n",
      "    },\n",
      "    {\n",
      "      \"input\": {\n",
      "        \"nums\": [\n",
      "          -1,\n",
      "          0,\n",
      "          3,\n",
      "          5,\n",
      "          9,\n",
      "          12\n",
      "        ],\n",
      "        \"target\": 2\n",
      "      },\n",
      "      \"output\": -1\n",
      "    }\n",
      "  ]\n",
      "}\n"
     ]
    }
   ],
   "execution_count": 10
  },
  {
   "metadata": {},
   "cell_type": "markdown",
   "source": "## 4. Убираем лишние пробелы и переносы строк внутри массивов",
   "id": "f167371aae54edc4"
  },
  {
   "metadata": {
    "ExecuteTime": {
     "end_time": "2025-06-21T20:52:37.238498Z",
     "start_time": "2025-06-21T20:52:37.233499Z"
    }
   },
   "cell_type": "code",
   "source": [
    "pretty = re.sub(r'\\[\\s+([^\\[\\]]+?)\\s+\\]', lambda m: '[' + m.group(1).replace('\\n', '').replace(' ', '') + ']', pretty)\n",
    "print(pretty)"
   ],
   "id": "a73fc357b5205485",
   "outputs": [
    {
     "name": "stdout",
     "output_type": "stream",
     "text": [
      "{\n",
      "  \"examples\": [\n",
      "    {\n",
      "      \"input\": {\n",
      "        \"nums\": [-1,0,3,5,9,12],\n",
      "        \"target\": 9\n",
      "      },\n",
      "      \"output\": 4\n",
      "    },\n",
      "    {\n",
      "      \"input\": {\n",
      "        \"nums\": [-1,0,3,5,9,12],\n",
      "        \"target\": 2\n",
      "      },\n",
      "      \"output\": -1\n",
      "    }\n",
      "  ]\n",
      "}\n"
     ]
    }
   ],
   "execution_count": 11
  },
  {
   "metadata": {},
   "cell_type": "markdown",
   "source": "# 🔺 Заберите результат в буфер обмена",
   "id": "d38d51512712fa61"
  }
 ],
 "metadata": {
  "kernelspec": {
   "display_name": "Python 3",
   "language": "python",
   "name": "python3"
  },
  "language_info": {
   "codemirror_mode": {
    "name": "ipython",
    "version": 2
   },
   "file_extension": ".py",
   "mimetype": "text/x-python",
   "name": "python",
   "nbconvert_exporter": "python",
   "pygments_lexer": "ipython2",
   "version": "2.7.6"
  }
 },
 "nbformat": 4,
 "nbformat_minor": 5
}
