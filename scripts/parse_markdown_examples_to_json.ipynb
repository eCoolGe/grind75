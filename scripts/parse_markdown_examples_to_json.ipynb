{
 "cells": [
  {
   "metadata": {},
   "cell_type": "markdown",
   "source": [
    "# 🧩 `parse_markdown_examples_to_json(text: str)`\n",
    "\n",
    "Парсит текст с примерами, содержащими блоки `**Input:**` и `**Output:**`, и возвращает их в виде словаря. Этот формат используется у LeetCode.\n",
    "\n",
    "---\n",
    "\n",
    "## 📥 Аргументы\n",
    "\n",
    "| Параметр | Тип   | Описание                             |\n",
    "|----------|-------|--------------------------------------|\n",
    "| `text`   | `str` | Текст, содержащий примеры в формате: |\n",
    "| -        |       | `**Example N:**`                     |\n",
    "| -        |       | `**Input:** <входные данные>`        |\n",
    "| -        |       | `**Output:** <выходные данные>`      |\n",
    "\n",
    "---\n",
    "\n",
    "## 📤 Возвращает\n",
    "\n",
    "Тип: `dict`\n",
    "\n",
    "Структура возвращаемого словаря:\n",
    "\n",
    "```json\n",
    "{\n",
    "  \"examples\": [\n",
    "    {\n",
    "      \"input\": {...},     // Входные данные (dict)\n",
    "      \"output\": ...       // Выходные данные (любой тип)\n",
    "    }\n",
    "  ]\n",
    "}\n",
    "```\n",
    "\n",
    "---\n"
   ],
   "id": "55ec4f1b67d7f0f7"
  },
  {
   "metadata": {},
   "cell_type": "markdown",
   "source": "# 🔻 Вставьте пример для конвертирования в JSON",
   "id": "e493051c0d6a5b97"
  },
  {
   "metadata": {
    "ExecuteTime": {
     "end_time": "2025-06-23T22:46:33.854409Z",
     "start_time": "2025-06-23T22:46:33.850985Z"
    }
   },
   "cell_type": "code",
   "source": [
    "example_block = \"\"\"\n",
    "**Example 1:**\n",
    "\n",
    "**Input:**\n",
    "[\"MyQueue\", \"push\", \"push\", \"peek\", \"pop\", \"empty\"]\n",
    "[[], [1], [2], [], [], []]\n",
    "**Output:**\n",
    "[null, null, null, 1, 1, false]\n",
    "\n",
    "**Explanation:**\n",
    "MyQueue myQueue = new MyQueue();\n",
    "myQueue.push(1); // queue is: [1]\n",
    "myQueue.push(2); // queue is: [1, 2] (leftmost is front of the queue)\n",
    "myQueue.peek(); // return 1\n",
    "myQueue.pop(); // return 1, queue is [2]\n",
    "myQueue.empty(); // return false\n",
    "\"\"\""
   ],
   "id": "bb371fc7f1de310a",
   "outputs": [],
   "execution_count": 19
  },
  {
   "metadata": {},
   "cell_type": "markdown",
   "source": "## 1. Функция-обработчик",
   "id": "69f1f1585d5db25c"
  },
  {
   "metadata": {
    "ExecuteTime": {
     "end_time": "2025-06-23T22:46:33.880626Z",
     "start_time": "2025-06-23T22:46:33.872913Z"
    }
   },
   "cell_type": "code",
   "source": [
    "import re\n",
    "import ast\n",
    "import json\n",
    "\n",
    "def parse_markdown_examples_to_json(text: str):\n",
    "    examples = []\n",
    "    raw_blocks = re.split(r\"\\*\\*Example \\d+:\\*\\*\", text)\n",
    "\n",
    "    for idx, block in enumerate(raw_blocks, 1):\n",
    "        prefix = f\"Example {idx}\"\n",
    "\n",
    "        # Попытка найти input\n",
    "        input_lines = re.findall(r\"\\*\\*Input:\\*\\*\\s*(.*?)(?=\\n\\*\\*|$)\", block, re.DOTALL)\n",
    "        if not input_lines:\n",
    "            continue\n",
    "        input_lines = [line.strip().rstrip(\",\") for line in input_lines[0].strip().splitlines() if line.strip()]\n",
    "        try:\n",
    "            if len(input_lines) == 1:\n",
    "                # Случай s=[\"MyQueue\"], x=[[]]\n",
    "                input_expr = \"{\" + re.sub(r\"(\\w+)\\s*=\", r'\"\\1\":', input_lines[0]) + \"}\"\n",
    "                input_data = ast.literal_eval(input_expr)\n",
    "            else:\n",
    "                # Случай [\"MyQueue\"], [[], []]\n",
    "                input_data = {\"args\": [ast.literal_eval(line) for line in input_lines]}\n",
    "        except Exception as e:\n",
    "            print(f\"{prefix} ⚠ Ошибка в input: {e}\")\n",
    "            continue\n",
    "\n",
    "        # Попытка найти output\n",
    "        output_match = re.search(r\"\\*\\*Output:\\*\\*\\s*(.*?)\\s*(?:\\n|$)\", block)\n",
    "        if not output_match:\n",
    "            continue\n",
    "\n",
    "        output_text = output_match.group(1).strip()\n",
    "        output_text = output_text.replace(\"null\", \"None\").replace(\"true\", \"True\").replace(\"false\", \"False\")\n",
    "\n",
    "        try:\n",
    "            output_data = ast.literal_eval(output_text)\n",
    "        except Exception as e:\n",
    "            print(f\"{prefix} ⚠ Ошибка в output: {e}\")\n",
    "            continue\n",
    "\n",
    "        examples.append({\n",
    "            \"input\": input_data,\n",
    "            \"output\": output_data\n",
    "        })\n",
    "\n",
    "    return {\"examples\": examples}\n"
   ],
   "id": "951a91d401be4efb",
   "outputs": [],
   "execution_count": 20
  },
  {
   "metadata": {},
   "cell_type": "markdown",
   "source": "## 2. Парсим примеры из текста",
   "id": "a075f17332a2d03c"
  },
  {
   "metadata": {
    "ExecuteTime": {
     "end_time": "2025-06-23T22:46:33.903919Z",
     "start_time": "2025-06-23T22:46:33.899676Z"
    }
   },
   "cell_type": "code",
   "source": [
    "parsed = parse_markdown_examples_to_json(example_block)\n",
    "print(parsed)"
   ],
   "id": "971399785bc64bfa",
   "outputs": [
    {
     "name": "stdout",
     "output_type": "stream",
     "text": [
      "{'examples': [{'input': {'args': [['MyQueue', 'push', 'push', 'peek', 'pop', 'empty'], [[], [1], [2], [], [], []]]}, 'output': [None, None, None, 1, 1, False]}]}\n"
     ]
    }
   ],
   "execution_count": 21
  },
  {
   "metadata": {},
   "cell_type": "markdown",
   "source": "## 3. Преобразуем результат в JSON-строку с красивым форматированием",
   "id": "616efb94620502b8"
  },
  {
   "metadata": {
    "ExecuteTime": {
     "end_time": "2025-06-23T22:46:33.942607Z",
     "start_time": "2025-06-23T22:46:33.939461Z"
    }
   },
   "cell_type": "code",
   "source": [
    "pretty = json.dumps(parsed, indent=2, ensure_ascii=False)\n",
    "print(pretty)"
   ],
   "id": "940807a7387799b8",
   "outputs": [
    {
     "name": "stdout",
     "output_type": "stream",
     "text": [
      "{\n",
      "  \"examples\": [\n",
      "    {\n",
      "      \"input\": {\n",
      "        \"args\": [\n",
      "          [\n",
      "            \"MyQueue\",\n",
      "            \"push\",\n",
      "            \"push\",\n",
      "            \"peek\",\n",
      "            \"pop\",\n",
      "            \"empty\"\n",
      "          ],\n",
      "          [\n",
      "            [],\n",
      "            [\n",
      "              1\n",
      "            ],\n",
      "            [\n",
      "              2\n",
      "            ],\n",
      "            [],\n",
      "            [],\n",
      "            []\n",
      "          ]\n",
      "        ]\n",
      "      },\n",
      "      \"output\": [\n",
      "        null,\n",
      "        null,\n",
      "        null,\n",
      "        1,\n",
      "        1,\n",
      "        false\n",
      "      ]\n",
      "    }\n",
      "  ]\n",
      "}\n"
     ]
    }
   ],
   "execution_count": 22
  },
  {
   "metadata": {},
   "cell_type": "markdown",
   "source": "## 4. Убираем лишние пробелы и переносы строк внутри массивов",
   "id": "f167371aae54edc4"
  },
  {
   "metadata": {
    "ExecuteTime": {
     "end_time": "2025-06-23T22:46:33.973099Z",
     "start_time": "2025-06-23T22:46:33.969044Z"
    }
   },
   "cell_type": "code",
   "source": [
    "pretty = re.sub(r'\\[\\s+([^\\[\\]]+?)\\s+\\]', lambda m: '[' + m.group(1).replace('\\n', '').replace(' ', '') + ']', pretty)\n",
    "print(pretty)"
   ],
   "id": "a73fc357b5205485",
   "outputs": [
    {
     "name": "stdout",
     "output_type": "stream",
     "text": [
      "{\n",
      "  \"examples\": [\n",
      "    {\n",
      "      \"input\": {\n",
      "        \"args\": [\n",
      "          [\"MyQueue\",\"push\",\"push\",\"peek\",\"pop\",\"empty\"],\n",
      "          [\n",
      "            [],\n",
      "            [1],\n",
      "            [2],\n",
      "            [],\n",
      "            [],\n",
      "            []\n",
      "          ]\n",
      "        ]\n",
      "      },\n",
      "      \"output\": [null,null,null,1,1,false]\n",
      "    }\n",
      "  ]\n",
      "}\n"
     ]
    }
   ],
   "execution_count": 23
  },
  {
   "metadata": {},
   "cell_type": "markdown",
   "source": "# 🔺 Заберите результат в буфер обмена",
   "id": "d38d51512712fa61"
  }
 ],
 "metadata": {
  "kernelspec": {
   "display_name": "Python 3",
   "language": "python",
   "name": "python3"
  },
  "language_info": {
   "codemirror_mode": {
    "name": "ipython",
    "version": 2
   },
   "file_extension": ".py",
   "mimetype": "text/x-python",
   "name": "python",
   "nbconvert_exporter": "python",
   "pygments_lexer": "ipython2",
   "version": "2.7.6"
  }
 },
 "nbformat": 4,
 "nbformat_minor": 5
}
