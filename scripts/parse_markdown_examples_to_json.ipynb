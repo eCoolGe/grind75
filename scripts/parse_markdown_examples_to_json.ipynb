{
 "cells": [
  {
   "metadata": {},
   "cell_type": "markdown",
   "source": [
    "# 🧩 `parse_markdown_examples_to_json(text: str)`\n",
    "\n",
    "Парсит текст с примерами, содержащими блоки `**Input:**` и `**Output:**`, и возвращает их в виде словаря. Этот формат используется у LeetCode.\n",
    "\n",
    "---\n",
    "\n",
    "## 📥 Аргументы\n",
    "\n",
    "| Параметр | Тип   | Описание                             |\n",
    "|----------|-------|--------------------------------------|\n",
    "| `text`   | `str` | Текст, содержащий примеры в формате: |\n",
    "| -        |       | `**Example N:**`                     |\n",
    "| -        |       | `**Input:** <входные данные>`        |\n",
    "| -        |       | `**Output:** <выходные данные>`      |\n",
    "\n",
    "---\n",
    "\n",
    "## 📤 Возвращает\n",
    "\n",
    "Тип: `dict`\n",
    "\n",
    "Структура возвращаемого словаря:\n",
    "\n",
    "```json\n",
    "{\n",
    "  \"examples\": [\n",
    "    {\n",
    "      \"input\": {...},     // Входные данные (dict)\n",
    "      \"output\": ...       // Выходные данные (любой тип)\n",
    "    }\n",
    "  ]\n",
    "}\n",
    "```\n",
    "\n",
    "---\n"
   ],
   "id": "55ec4f1b67d7f0f7"
  },
  {
   "metadata": {},
   "cell_type": "markdown",
   "source": "# 🔻 Вставьте пример для конвертирования в JSON",
   "id": "e493051c0d6a5b97"
  },
  {
   "metadata": {
    "ExecuteTime": {
     "end_time": "2025-06-22T21:17:39.114472Z",
     "start_time": "2025-06-22T21:17:39.105443Z"
    }
   },
   "cell_type": "code",
   "source": [
    "example_block = \"\"\"\n",
    "**Example 1:**\n",
    "\n",
    "![](https://assets.leetcode.com/uploads/2018/12/07/circularlinkedlist.png)\n",
    "\n",
    "**Input:** head = [3,2,0,-4], pos = 1\n",
    "**Output:** true\n",
    "**Explanation:** There is a cycle in the linked list, where the tail connects to the 1st node (0-indexed).\n",
    "\n",
    "**Example 2:**\n",
    "\n",
    "![](https://assets.leetcode.com/uploads/2018/12/07/circularlinkedlist_test2.png)\n",
    "\n",
    "**Input:** head = [1,2], pos = 0\n",
    "**Output:** true\n",
    "**Explanation:** There is a cycle in the linked list, where the tail connects to the 0th node.\n",
    "\n",
    "**Example 3:**\n",
    "\n",
    "![](https://assets.leetcode.com/uploads/2018/12/07/circularlinkedlist_test3.png)\n",
    "\n",
    "**Input:** head = [1], pos = -1\n",
    "**Output:** false\n",
    "**Explanation:** There is no cycle in the linked list.\n",
    "\"\"\""
   ],
   "id": "bb371fc7f1de310a",
   "outputs": [],
   "execution_count": 1
  },
  {
   "metadata": {},
   "cell_type": "markdown",
   "source": "## 1. Функция-обработчик",
   "id": "69f1f1585d5db25c"
  },
  {
   "cell_type": "code",
   "id": "initial_id",
   "metadata": {
    "collapsed": true,
    "ExecuteTime": {
     "end_time": "2025-06-22T21:17:39.143635Z",
     "start_time": "2025-06-22T21:17:39.135487Z"
    }
   },
   "source": [
    "import re\n",
    "import ast\n",
    "import json\n",
    "\n",
    "def parse_markdown_examples_to_json(text: str):\n",
    "    examples = []\n",
    "    # Разделяем текст на блоки по шаблону **Example N:**\n",
    "    raw_blocks = re.split(r\"\\*\\*Example \\d+:\\*\\*\", text)\n",
    "    for block in raw_blocks:\n",
    "        # Ищем **Input:** ... **Output:** в каждом блоке\n",
    "        input_match = re.search(r\"\\*\\*Input:\\*\\*\\s*(.*?)\\s*(?:\\n|$)\", block)\n",
    "        output_match = re.search(r\"\\*\\*Output:\\*\\*\\s*(.*?)\\s*(?:\\n|$)\", block)\n",
    "\n",
    "        if not input_match or not output_match:\n",
    "            continue\n",
    "\n",
    "        input_text = input_match.group(1).strip()\n",
    "        output_text = output_match.group(1).strip().rstrip(\",\")\n",
    "\n",
    "        # Парсинг входных данных (input)\n",
    "        try:\n",
    "            input_expr = \"{\" + re.sub(r\"(\\w+)\\s*=\", r'\"\\1\":', input_text) + \"}\"\n",
    "            input_dict = ast.literal_eval(input_expr)\n",
    "        except Exception as e:\n",
    "            print(f\"⚠ Ошибка в input '{input_text}': {e}\")\n",
    "            continue\n",
    "\n",
    "        # Подготовка output-текста\n",
    "        output_text = output_text.replace(\"true\", \"True\").replace(\"false\", \"False\")\n",
    "\n",
    "        # Парсинг выходных данных (output)\n",
    "        try:\n",
    "            output = ast.literal_eval(output_text)\n",
    "        except Exception as e:\n",
    "            print(f\"⚠ Ошибка в output '{output_text}': {e}\")\n",
    "            continue\n",
    "\n",
    "        # Добавляем пример в список\n",
    "        examples.append({\n",
    "            \"input\": input_dict,\n",
    "            \"output\": output\n",
    "        })\n",
    "\n",
    "    return {\"examples\": examples}\n",
    "\n"
   ],
   "outputs": [],
   "execution_count": 2
  },
  {
   "metadata": {},
   "cell_type": "markdown",
   "source": "## 2. Парсим примеры из текста",
   "id": "a075f17332a2d03c"
  },
  {
   "metadata": {
    "ExecuteTime": {
     "end_time": "2025-06-22T21:17:39.162655Z",
     "start_time": "2025-06-22T21:17:39.157648Z"
    }
   },
   "cell_type": "code",
   "source": [
    "parsed = parse_markdown_examples_to_json(example_block)\n",
    "print(parsed)"
   ],
   "id": "971399785bc64bfa",
   "outputs": [
    {
     "name": "stdout",
     "output_type": "stream",
     "text": [
      "{'examples': [{'input': {'head': [3, 2, 0, -4], 'pos': 1}, 'output': True}, {'input': {'head': [1, 2], 'pos': 0}, 'output': True}, {'input': {'head': [1], 'pos': -1}, 'output': False}]}\n"
     ]
    }
   ],
   "execution_count": 3
  },
  {
   "metadata": {},
   "cell_type": "markdown",
   "source": "## 3. Преобразуем результат в JSON-строку с красивым форматированием",
   "id": "616efb94620502b8"
  },
  {
   "metadata": {
    "ExecuteTime": {
     "end_time": "2025-06-22T21:17:39.529805Z",
     "start_time": "2025-06-22T21:17:39.525611Z"
    }
   },
   "cell_type": "code",
   "source": [
    "pretty = json.dumps(parsed, indent=2, ensure_ascii=False)\n",
    "print(pretty)"
   ],
   "id": "940807a7387799b8",
   "outputs": [
    {
     "name": "stdout",
     "output_type": "stream",
     "text": [
      "{\n",
      "  \"examples\": [\n",
      "    {\n",
      "      \"input\": {\n",
      "        \"head\": [\n",
      "          3,\n",
      "          2,\n",
      "          0,\n",
      "          -4\n",
      "        ],\n",
      "        \"pos\": 1\n",
      "      },\n",
      "      \"output\": true\n",
      "    },\n",
      "    {\n",
      "      \"input\": {\n",
      "        \"head\": [\n",
      "          1,\n",
      "          2\n",
      "        ],\n",
      "        \"pos\": 0\n",
      "      },\n",
      "      \"output\": true\n",
      "    },\n",
      "    {\n",
      "      \"input\": {\n",
      "        \"head\": [\n",
      "          1\n",
      "        ],\n",
      "        \"pos\": -1\n",
      "      },\n",
      "      \"output\": false\n",
      "    }\n",
      "  ]\n",
      "}\n"
     ]
    }
   ],
   "execution_count": 4
  },
  {
   "metadata": {},
   "cell_type": "markdown",
   "source": "## 4. Убираем лишние пробелы и переносы строк внутри массивов",
   "id": "f167371aae54edc4"
  },
  {
   "metadata": {
    "ExecuteTime": {
     "end_time": "2025-06-22T21:17:39.557944Z",
     "start_time": "2025-06-22T21:17:39.554053Z"
    }
   },
   "cell_type": "code",
   "source": [
    "pretty = re.sub(r'\\[\\s+([^\\[\\]]+?)\\s+\\]', lambda m: '[' + m.group(1).replace('\\n', '').replace(' ', '') + ']', pretty)\n",
    "print(pretty)"
   ],
   "id": "a73fc357b5205485",
   "outputs": [
    {
     "name": "stdout",
     "output_type": "stream",
     "text": [
      "{\n",
      "  \"examples\": [\n",
      "    {\n",
      "      \"input\": {\n",
      "        \"head\": [3,2,0,-4],\n",
      "        \"pos\": 1\n",
      "      },\n",
      "      \"output\": true\n",
      "    },\n",
      "    {\n",
      "      \"input\": {\n",
      "        \"head\": [1,2],\n",
      "        \"pos\": 0\n",
      "      },\n",
      "      \"output\": true\n",
      "    },\n",
      "    {\n",
      "      \"input\": {\n",
      "        \"head\": [1],\n",
      "        \"pos\": -1\n",
      "      },\n",
      "      \"output\": false\n",
      "    }\n",
      "  ]\n",
      "}\n"
     ]
    }
   ],
   "execution_count": 5
  },
  {
   "metadata": {},
   "cell_type": "markdown",
   "source": "# 🔺 Заберите результат в буфер обмена",
   "id": "d38d51512712fa61"
  }
 ],
 "metadata": {
  "kernelspec": {
   "display_name": "Python 3",
   "language": "python",
   "name": "python3"
  },
  "language_info": {
   "codemirror_mode": {
    "name": "ipython",
    "version": 2
   },
   "file_extension": ".py",
   "mimetype": "text/x-python",
   "name": "python",
   "nbconvert_exporter": "python",
   "pygments_lexer": "ipython2",
   "version": "2.7.6"
  }
 },
 "nbformat": 4,
 "nbformat_minor": 5
}
