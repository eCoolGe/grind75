{
 "cells": [
  {
   "metadata": {},
   "cell_type": "markdown",
   "source": [
    "# 🧩 `parse_markdown_examples_to_json(text: str)`\n",
    "\n",
    "Парсит текст с примерами, содержащими блоки `**Input:**` и `**Output:**`, и возвращает их в виде словаря. Этот формат используется у LeetCode.\n",
    "\n",
    "---\n",
    "\n",
    "## 📥 Аргументы\n",
    "\n",
    "| Параметр | Тип   | Описание                             |\n",
    "|----------|-------|--------------------------------------|\n",
    "| `text`   | `str` | Текст, содержащий примеры в формате: |\n",
    "| -        |       | `**Example N:**`                     |\n",
    "| -        |       | `**Input:** <входные данные>`        |\n",
    "| -        |       | `**Output:** <выходные данные>`      |\n",
    "\n",
    "---\n",
    "\n",
    "## 📤 Возвращает\n",
    "\n",
    "Тип: `dict`\n",
    "\n",
    "Структура возвращаемого словаря:\n",
    "\n",
    "```json\n",
    "{\n",
    "  \"examples\": [\n",
    "    {\n",
    "      \"input\": {...},     // Входные данные (dict)\n",
    "      \"output\": ...       // Выходные данные (любой тип)\n",
    "    }\n",
    "  ]\n",
    "}\n",
    "```\n",
    "\n",
    "---\n"
   ],
   "id": "55ec4f1b67d7f0f7"
  },
  {
   "metadata": {},
   "cell_type": "markdown",
   "source": "# 🔻 Вставьте пример для конвертирования в JSON",
   "id": "e493051c0d6a5b97"
  },
  {
   "metadata": {
    "ExecuteTime": {
     "end_time": "2025-06-26T21:27:04.518149Z",
     "start_time": "2025-06-26T21:27:04.513365Z"
    }
   },
   "cell_type": "code",
   "source": [
    "example_block = \"\"\"\n",
    "**Example 1:**\n",
    "\n",
    "![](https://assets.leetcode.com/uploads/2018/12/14/binarysearchtree_improved.png)\n",
    "\n",
    "**Input:** root = [6,2,8,0,4,7,9,null,null,3,5], p = 2, q = 8\n",
    "**Output:** 6\n",
    "**Explanation:** The LCA of nodes 2 and 8 is 6.\n",
    "\n",
    "**Example 2:**\n",
    "\n",
    "![](https://assets.leetcode.com/uploads/2018/12/14/binarysearchtree_improved.png)\n",
    "\n",
    "**Input:** root = [6,2,8,0,4,7,9,null,null,3,5], p = 2, q = 4\n",
    "**Output:** 2\n",
    "**Explanation:** The LCA of nodes 2 and 4 is 2, since a node can be a descendant of itself according to the LCA definition.\n",
    "\n",
    "**Example 3:**\n",
    "\n",
    "**Input:** root = [2,1], p = 2, q = 1\n",
    "**Output:** 2\n",
    "\"\"\""
   ],
   "id": "bb371fc7f1de310a",
   "outputs": [],
   "execution_count": 54
  },
  {
   "metadata": {},
   "cell_type": "markdown",
   "source": "## 1. Функция-обработчик",
   "id": "69f1f1585d5db25c"
  },
  {
   "metadata": {
    "ExecuteTime": {
     "end_time": "2025-06-26T21:27:04.547654Z",
     "start_time": "2025-06-26T21:27:04.535102Z"
    }
   },
   "cell_type": "code",
   "source": [
    "import re\n",
    "import ast\n",
    "import json\n",
    "\n",
    "def parse_markdown_examples_to_json(text: str):\n",
    "    examples = []\n",
    "    raw_blocks = re.split(r\"\\*\\*Example \\d+:\\*\\*\", text)\n",
    "\n",
    "    for idx, block in enumerate(raw_blocks, 1):\n",
    "        prefix = f\"Example {idx}\"\n",
    "\n",
    "        # Попытка найти input\n",
    "        input_lines = re.findall(r\"\\*\\*Input:\\*\\*\\s*(.*?)(?=\\n\\*\\*|$)\", block, re.DOTALL)\n",
    "        if not input_lines:\n",
    "            continue\n",
    "\n",
    "        input_lines = [line.strip().rstrip(\",\") for line in input_lines[0].strip().splitlines() if line.strip()]\n",
    "        input_text = \"\\n\".join(input_lines)\n",
    "\n",
    "        # Заменяем JSON-значения на Python-эквиваленты\n",
    "        input_text = re.sub(r\"\\bnull\\b\", \"None\", input_text)\n",
    "        input_text = re.sub(r\"\\btrue\\b\", \"True\", input_text)\n",
    "        input_text = re.sub(r\"\\bfalse\\b\", \"False\", input_text)\n",
    "\n",
    "        try:\n",
    "            if len(input_lines) == 1 and '=' in input_lines[0]:\n",
    "                # Пример: root = [...]\n",
    "                input_expr = \"{\" + re.sub(r\"(\\w+)\\s*=\", r'\"\\1\":', input_text) + \"}\"\n",
    "                input_data = ast.literal_eval(input_expr)\n",
    "            else:\n",
    "                # Пример: [\"MyQueue\"], [[], []]\n",
    "                input_data = {\"args\": [ast.literal_eval(line) for line in input_lines]}\n",
    "        except Exception as e:\n",
    "            print(f\"{prefix} ⚠ Ошибка в input: {e}\")\n",
    "            continue\n",
    "\n",
    "        # Попытка найти output\n",
    "        output_match = re.search(r\"\\*\\*Output:\\*\\*\\s*(.*?)\\s*(?:\\n|$)\", block)\n",
    "        if not output_match:\n",
    "            continue\n",
    "\n",
    "        output_text = output_match.group(1).strip()\n",
    "        output_text = output_text.replace(\"null\", \"None\").replace(\"true\", \"True\").replace(\"false\", \"False\")\n",
    "\n",
    "        try:\n",
    "            output_data = ast.literal_eval(output_text)\n",
    "        except Exception as e:\n",
    "            print(f\"{prefix} ⚠ Ошибка в output: {e}\")\n",
    "            continue\n",
    "\n",
    "        examples.append({\n",
    "            \"input\": input_data,\n",
    "            \"output\": output_data\n",
    "        })\n",
    "\n",
    "    return {\"examples\": examples}\n"
   ],
   "id": "951a91d401be4efb",
   "outputs": [],
   "execution_count": 55
  },
  {
   "metadata": {},
   "cell_type": "markdown",
   "source": "## 2. Парсим примеры из текста",
   "id": "a075f17332a2d03c"
  },
  {
   "metadata": {
    "ExecuteTime": {
     "end_time": "2025-06-26T21:27:04.567256Z",
     "start_time": "2025-06-26T21:27:04.562852Z"
    }
   },
   "cell_type": "code",
   "source": [
    "parsed = parse_markdown_examples_to_json(example_block)\n",
    "print(parsed)"
   ],
   "id": "971399785bc64bfa",
   "outputs": [
    {
     "name": "stdout",
     "output_type": "stream",
     "text": [
      "{'examples': [{'input': {'root': [6, 2, 8, 0, 4, 7, 9, None, None, 3, 5], 'p': 2, 'q': 8}, 'output': 6}, {'input': {'root': [6, 2, 8, 0, 4, 7, 9, None, None, 3, 5], 'p': 2, 'q': 4}, 'output': 2}, {'input': {'root': [2, 1], 'p': 2, 'q': 1}, 'output': 2}]}\n"
     ]
    }
   ],
   "execution_count": 56
  },
  {
   "metadata": {},
   "cell_type": "markdown",
   "source": "## 3. Преобразуем результат в JSON-строку с красивым форматированием",
   "id": "616efb94620502b8"
  },
  {
   "metadata": {
    "ExecuteTime": {
     "end_time": "2025-06-26T21:27:04.602857Z",
     "start_time": "2025-06-26T21:27:04.597643Z"
    }
   },
   "cell_type": "code",
   "source": [
    "pretty = json.dumps(parsed, indent=2, ensure_ascii=False)\n",
    "print(pretty)"
   ],
   "id": "940807a7387799b8",
   "outputs": [
    {
     "name": "stdout",
     "output_type": "stream",
     "text": [
      "{\n",
      "  \"examples\": [\n",
      "    {\n",
      "      \"input\": {\n",
      "        \"root\": [\n",
      "          6,\n",
      "          2,\n",
      "          8,\n",
      "          0,\n",
      "          4,\n",
      "          7,\n",
      "          9,\n",
      "          null,\n",
      "          null,\n",
      "          3,\n",
      "          5\n",
      "        ],\n",
      "        \"p\": 2,\n",
      "        \"q\": 8\n",
      "      },\n",
      "      \"output\": 6\n",
      "    },\n",
      "    {\n",
      "      \"input\": {\n",
      "        \"root\": [\n",
      "          6,\n",
      "          2,\n",
      "          8,\n",
      "          0,\n",
      "          4,\n",
      "          7,\n",
      "          9,\n",
      "          null,\n",
      "          null,\n",
      "          3,\n",
      "          5\n",
      "        ],\n",
      "        \"p\": 2,\n",
      "        \"q\": 4\n",
      "      },\n",
      "      \"output\": 2\n",
      "    },\n",
      "    {\n",
      "      \"input\": {\n",
      "        \"root\": [\n",
      "          2,\n",
      "          1\n",
      "        ],\n",
      "        \"p\": 2,\n",
      "        \"q\": 1\n",
      "      },\n",
      "      \"output\": 2\n",
      "    }\n",
      "  ]\n",
      "}\n"
     ]
    }
   ],
   "execution_count": 57
  },
  {
   "metadata": {},
   "cell_type": "markdown",
   "source": "## 4. Убираем лишние пробелы и переносы строк внутри массивов",
   "id": "f167371aae54edc4"
  },
  {
   "metadata": {
    "ExecuteTime": {
     "end_time": "2025-06-26T21:27:04.644988Z",
     "start_time": "2025-06-26T21:27:04.638852Z"
    }
   },
   "cell_type": "code",
   "source": [
    "pretty = re.sub(r'\\[\\s+([^\\[\\]]+?)\\s+\\]', lambda m: '[' + m.group(1).replace('\\n', '').replace(' ', '') + ']', pretty)\n",
    "print(pretty)"
   ],
   "id": "a73fc357b5205485",
   "outputs": [
    {
     "name": "stdout",
     "output_type": "stream",
     "text": [
      "{\n",
      "  \"examples\": [\n",
      "    {\n",
      "      \"input\": {\n",
      "        \"root\": [6,2,8,0,4,7,9,null,null,3,5],\n",
      "        \"p\": 2,\n",
      "        \"q\": 8\n",
      "      },\n",
      "      \"output\": 6\n",
      "    },\n",
      "    {\n",
      "      \"input\": {\n",
      "        \"root\": [6,2,8,0,4,7,9,null,null,3,5],\n",
      "        \"p\": 2,\n",
      "        \"q\": 4\n",
      "      },\n",
      "      \"output\": 2\n",
      "    },\n",
      "    {\n",
      "      \"input\": {\n",
      "        \"root\": [2,1],\n",
      "        \"p\": 2,\n",
      "        \"q\": 1\n",
      "      },\n",
      "      \"output\": 2\n",
      "    }\n",
      "  ]\n",
      "}\n"
     ]
    }
   ],
   "execution_count": 58
  },
  {
   "metadata": {},
   "cell_type": "markdown",
   "source": "# 🔺 Заберите результат в буфер обмена",
   "id": "d38d51512712fa61"
  }
 ],
 "metadata": {
  "kernelspec": {
   "display_name": "Python 3",
   "language": "python",
   "name": "python3"
  },
  "language_info": {
   "codemirror_mode": {
    "name": "ipython",
    "version": 2
   },
   "file_extension": ".py",
   "mimetype": "text/x-python",
   "name": "python",
   "nbconvert_exporter": "python",
   "pygments_lexer": "ipython2",
   "version": "2.7.6"
  }
 },
 "nbformat": 4,
 "nbformat_minor": 5
}
